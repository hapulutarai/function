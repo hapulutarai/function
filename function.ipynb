{
  "nbformat": 4,
  "nbformat_minor": 0,
  "metadata": {
    "colab": {
      "provenance": []
    },
    "kernelspec": {
      "name": "python3",
      "display_name": "Python 3"
    },
    "language_info": {
      "name": "python"
    }
  },
  "cells": [
    {
      "cell_type": "markdown",
      "source": [
        "**1. Write a python function that takes a list of numbers as input and returns the sum of all even numbers in the list.**"
      ],
      "metadata": {
        "id": "Zx58YltKoulU"
      }
    },
    {
      "cell_type": "code",
      "source": [
        "def sum_even_numbers(numbers):\n",
        "  total = 0\n",
        "  for num in numbers:\n",
        "    if num % 2 == 0:\n",
        "      total += num\n",
        "    return total"
      ],
      "metadata": {
        "id": "J5D-u-xzmc73"
      },
      "execution_count": null,
      "outputs": []
    },
    {
      "cell_type": "code",
      "source": [
        "nums = [20, 41, 59, 62, 92]\n",
        "print(sum_even_numbers(nums))"
      ],
      "metadata": {
        "colab": {
          "base_uri": "https://localhost:8080/"
        },
        "id": "uWGb3sJrn_Jj",
        "outputId": "694821ee-edd8-4b0b-9802-62c2139bb117"
      },
      "execution_count": null,
      "outputs": [
        {
          "output_type": "stream",
          "name": "stdout",
          "text": [
            "20\n"
          ]
        }
      ]
    },
    {
      "cell_type": "markdown",
      "source": [
        "**2. Create a python function that accepts a string and returns the reverseof that string.**"
      ],
      "metadata": {
        "id": "T2QhI_-FpxKA"
      }
    },
    {
      "cell_type": "code",
      "source": [
        "def reverse_string(t):\n",
        "  return t[::-1]\n",
        "h = \"Radhe Krishna\"\n",
        "print(reverse_string(h))"
      ],
      "metadata": {
        "colab": {
          "base_uri": "https://localhost:8080/"
        },
        "id": "39x2WMMdpyw8",
        "outputId": "db1ec02d-f83f-4bba-8fab-845e14b1b290"
      },
      "execution_count": null,
      "outputs": [
        {
          "output_type": "stream",
          "name": "stdout",
          "text": [
            "anhsirK ehdaR\n"
          ]
        }
      ]
    },
    {
      "cell_type": "markdown",
      "source": [
        "**3. Inplement a Puthon funnction thattakes a list of integers and returns a new list containing the square of each number.**"
      ],
      "metadata": {
        "id": "zghbMEtTrldE"
      }
    },
    {
      "cell_type": "code",
      "source": [
        "def sq_list(n):\n",
        "  return [num ** 2 for num in n]\n",
        "num = [9, 10, 11, 12, 13]\n",
        "print(sq_list(num))"
      ],
      "metadata": {
        "colab": {
          "base_uri": "https://localhost:8080/"
        },
        "id": "q8IpUrW1tYAM",
        "outputId": "6befea9e-0b20-4417-e655-6cdd29f72b30"
      },
      "execution_count": null,
      "outputs": [
        {
          "output_type": "stream",
          "name": "stdout",
          "text": [
            "[81, 100, 121, 144, 169]\n"
          ]
        }
      ]
    },
    {
      "cell_type": "markdown",
      "source": [
        "**4. Write a python functin that checks if a given number is prime pr not from 1 to 200.**"
      ],
      "metadata": {
        "id": "DNa1n2z0uKgC"
      }
    },
    {
      "cell_type": "code",
      "source": [
        "def prime(n):\n",
        "  if n < 2:\n",
        "      return False\n",
        "  for i in range(2, int(n**0.5) + 1):\n",
        "      if n % i == 0:\n",
        "          return False\n",
        "  return True"
      ],
      "metadata": {
        "id": "ZVMu_HBmuhBw"
      },
      "execution_count": null,
      "outputs": []
    },
    {
      "cell_type": "code",
      "source": [
        "for num in range(1, 201):\n",
        "  if prime(num):\n",
        "    print(num, end=\" \")"
      ],
      "metadata": {
        "colab": {
          "base_uri": "https://localhost:8080/"
        },
        "id": "TtzYgJZMvri7",
        "outputId": "442dea03-b248-4e1b-d5c9-954257e5e23e"
      },
      "execution_count": null,
      "outputs": [
        {
          "output_type": "stream",
          "name": "stdout",
          "text": [
            "2 3 5 7 11 13 17 19 23 29 31 37 41 43 47 53 59 61 67 71 73 79 83 89 97 101 103 107 109 113 127 131 137 139 149 151 157 163 167 173 179 181 191 193 197 199 "
          ]
        }
      ]
    },
    {
      "cell_type": "markdown",
      "source": [
        "**5.Create an iterator class in Python that generates the Fibonacci sequence upto aspecified  a number of terms.**"
      ],
      "metadata": {
        "id": "kSPSts0VNIwg"
      }
    },
    {
      "cell_type": "code",
      "source": [
        "class"
      ],
      "metadata": {
        "id": "5QXgEJF7OCmF"
      },
      "execution_count": null,
      "outputs": []
    },
    {
      "cell_type": "markdown",
      "source": [
        "**6. Write a generator function in Python that yields the power of 2 uo to agiven exponent.**"
      ],
      "metadata": {
        "id": "EU3XrEsTxGEm"
      }
    },
    {
      "cell_type": "code",
      "source": [
        "def power(n):\n",
        "    for i in range(n + 1):\n",
        "        yield 2 ** i"
      ],
      "metadata": {
        "id": "PdFch5kgxst1"
      },
      "execution_count": null,
      "outputs": []
    },
    {
      "cell_type": "code",
      "source": [
        "for val in power(12):\n",
        "    print(val, end=\" \")"
      ],
      "metadata": {
        "colab": {
          "base_uri": "https://localhost:8080/"
        },
        "id": "jj6uGmQyyT_A",
        "outputId": "e67b5c4b-b0eb-4321-9ad6-1268bb13ada1"
      },
      "execution_count": null,
      "outputs": [
        {
          "output_type": "stream",
          "name": "stdout",
          "text": [
            "1 2 4 8 16 32 64 128 256 512 1024 2048 4096 "
          ]
        }
      ]
    },
    {
      "cell_type": "markdown",
      "source": [
        "**8. Use a lambda function in python to sort a list of tuoles based on the second element of each tuple.**"
      ],
      "metadata": {
        "id": "BZl3TpZIzI-s"
      }
    },
    {
      "cell_type": "code",
      "source": [
        "data = [(1, 5), (3, 1), (6, 4), (10, 17)]\n",
        "sorted_data = sorted(data, key=lambda x: x[1])\n",
        "print(sorted_data)"
      ],
      "metadata": {
        "colab": {
          "base_uri": "https://localhost:8080/"
        },
        "id": "HtvMT3SBzzvN",
        "outputId": "fb50c80d-7d84-4f10-ed07-61f8a6b78035"
      },
      "execution_count": null,
      "outputs": [
        {
          "output_type": "stream",
          "name": "stdout",
          "text": [
            "[(3, 1), (6, 4), (1, 5), (10, 17)]\n"
          ]
        }
      ]
    },
    {
      "cell_type": "markdown",
      "source": [
        "**9. Write a Python [rogram that uses map() to convert a list  of tempertures from Celsius to Fahrenheit.**"
      ],
      "metadata": {
        "id": "RN_PJwer0rRi"
      }
    },
    {
      "cell_type": "code",
      "source": [
        "def ctf(c):\n",
        "  return (c * 9/5) + 32\n",
        "celsius = [0, 30, 37, 42, 100]\n",
        "fahrenheit = list(map(ctf, celsius))\n",
        "print(\"Celsius:    \", celsius)\n",
        "print(\"Fahrenheit: \", fahrenheit)"
      ],
      "metadata": {
        "colab": {
          "base_uri": "https://localhost:8080/"
        },
        "id": "1e2XtzNL1Fqw",
        "outputId": "5085e125-aa95-432e-fef1-4725d450dffa"
      },
      "execution_count": null,
      "outputs": [
        {
          "output_type": "stream",
          "name": "stdout",
          "text": [
            "Celsius:     [0, 30, 37, 42, 100]\n",
            "Fahrenheit:  [32.0, 86.0, 98.6, 107.6, 212.0]\n"
          ]
        }
      ]
    },
    {
      "cell_type": "markdown",
      "source": [
        "**10. Create a  Python program that uses filter() to remove all the vowels from a gicen string.**"
      ],
      "metadata": {
        "id": "jv_VnxdD2rtl"
      }
    },
    {
      "cell_type": "code",
      "source": [
        "def remove_vowel(t):\n",
        "  v = \"aeiouAEIOU\"\n",
        "  return \"\".join(filter(lambda ch: ch not in v,t))\n",
        "s = \" Radhe radhe, Krisha is coming !\"\n",
        "print(remove_vowel(s))"
      ],
      "metadata": {
        "colab": {
          "base_uri": "https://localhost:8080/"
        },
        "id": "z8IugQIb3HHM",
        "outputId": "ace3898e-b89f-4b26-9779-4f6b8b179d66"
      },
      "execution_count": null,
      "outputs": [
        {
          "output_type": "stream",
          "name": "stdout",
          "text": [
            " Rdh rdh, Krsh s cmng !\n"
          ]
        }
      ]
    },
    {
      "cell_type": "markdown",
      "source": [],
      "metadata": {
        "id": "aX_iFLw9VmnT"
      }
    }
  ]
}